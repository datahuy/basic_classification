{
 "cells": [],
 "metadata": {
  "kernelspec": {
   "display_name": "Python 3.8.0 ('product_discovery')",
   "language": "python",
   "name": "python3"
  },
  "language_info": {
   "codemirror_mode": {
    "name": "ipython",
    "version": 3
   },
   "file_extension": ".py",
   "mimetype": "text/x-python",
   "name": "python",
   "nbconvert_exporter": "python",
   "pygments_lexer": "ipython3",
   "version": "3.8.0"
  },
  "orig_nbformat": 4,
  "vscode": {
   "interpreter": {
    "hash": "1dc4bb78debfd8f994fa84653c1ce9541f4a7ad4c843db48ad99100197ddc2e8"
   }
  }
 },
 "nbformat": 4,
 "nbformat_minor": 2
}
