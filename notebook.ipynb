{
 "cells": [
  {
   "cell_type": "code",
   "execution_count": 1,
   "metadata": {},
   "outputs": [],
   "source": [
    "def test(n):\n",
    "    for i in range(n):\n",
    "        yield i, i**2"
   ]
  },
  {
   "cell_type": "code",
   "execution_count": 3,
   "metadata": {},
   "outputs": [],
   "source": [
    "a = test(10)"
   ]
  },
  {
   "cell_type": "code",
   "execution_count": 11,
   "metadata": {},
   "outputs": [],
   "source": [
    "from utils import Params"
   ]
  },
  {
   "cell_type": "code",
   "execution_count": 12,
   "metadata": {},
   "outputs": [],
   "source": [
    "p = Params('experiments/base_model/params.json')\n"
   ]
  },
  {
   "cell_type": "code",
   "execution_count": 14,
   "metadata": {},
   "outputs": [
    {
     "data": {
      "text/plain": [
       "{'num_epochs': 20,\n",
       " 'batch_size': 128,\n",
       " 'hidden_size': 200,\n",
       " 'dropout': 0.3,\n",
       " 'learning_rate': 0.001,\n",
       " 'gpu': 0}"
      ]
     },
     "execution_count": 14,
     "metadata": {},
     "output_type": "execute_result"
    }
   ],
   "source": [
    "p.__dict__"
   ]
  },
  {
   "cell_type": "code",
   "execution_count": 15,
   "metadata": {},
   "outputs": [
    {
     "ename": "TypeError",
     "evalue": "'Params' object does not support item assignment",
     "output_type": "error",
     "traceback": [
      "\u001b[0;31m---------------------------------------------------------------------------\u001b[0m",
      "\u001b[0;31mTypeError\u001b[0m                                 Traceback (most recent call last)",
      "Cell \u001b[0;32mIn [15], line 5\u001b[0m\n\u001b[1;32m      1\u001b[0m \u001b[39mmap\u001b[39m \u001b[39m=\u001b[39m {\n\u001b[1;32m      2\u001b[0m     \u001b[39m'\u001b[39m\u001b[39mict\u001b[39m\u001b[39m'\u001b[39m : \u001b[39m0\u001b[39m\n\u001b[1;32m      3\u001b[0m }\n\u001b[0;32m----> 5\u001b[0m p[\u001b[39m'\u001b[39;49m\u001b[39mmap\u001b[39;49m\u001b[39m'\u001b[39;49m] \u001b[39m=\u001b[39m \u001b[39mmap\u001b[39m\n",
      "\u001b[0;31mTypeError\u001b[0m: 'Params' object does not support item assignment"
     ]
    }
   ],
   "source": [
    "map = {\n",
    "    'ict' : 0\n",
    "}\n",
    "\n",
    "p['map'] = map\n"
   ]
  },
  {
   "cell_type": "code",
   "execution_count": 125,
   "metadata": {},
   "outputs": [],
   "source": [
    "a = 100\n",
    "class Test:\n",
    "    def __init__(self) -> None:\n",
    "        self.a = a\n",
    "    \n",
    "    @staticmethod\n",
    "    def sum(a,b):\n",
    "        return a + b"
   ]
  },
  {
   "cell_type": "code",
   "execution_count": 132,
   "metadata": {},
   "outputs": [
    {
     "data": {
      "text/plain": [
       "{'a': <__main__.Test at 0x7f439d1d49a0>}"
      ]
     },
     "execution_count": 132,
     "metadata": {},
     "output_type": "execute_result"
    }
   ],
   "source": [
    "a = Test()\n"
   ]
  },
  {
   "cell_type": "code",
   "execution_count": 56,
   "metadata": {},
   "outputs": [],
   "source": [
    "import model.encoder as encoder"
   ]
  },
  {
   "cell_type": "code",
   "execution_count": 69,
   "metadata": {},
   "outputs": [
    {
     "data": {
      "text/plain": [
       "2.0"
      ]
     },
     "execution_count": 69,
     "metadata": {},
     "output_type": "execute_result"
    }
   ],
   "source": [
    "import numpy as np\n",
    "out = np.array([[1,2,3], [4,5,6]])\n",
    "lab = np.array([2])\n",
    "encoder.metrics['accuracy'](out, lab)"
   ]
  },
  {
   "cell_type": "code",
   "execution_count": 104,
   "metadata": {},
   "outputs": [
    {
     "data": {
      "text/plain": [
       "torch.Tensor"
      ]
     },
     "execution_count": 104,
     "metadata": {},
     "output_type": "execute_result"
    }
   ],
   "source": [
    "import torch\n",
    "out = torch.Tensor(out)\n",
    "type(out[0][0])"
   ]
  },
  {
   "cell_type": "code",
   "execution_count": 133,
   "metadata": {},
   "outputs": [],
   "source": [
    "corpus = [\n",
    "    \"Day la quyen sach\",\n",
    "    \"Day la quen vo\",\n",
    "    \"Quyen vo moi\"\n",
    "]\n",
    "\n"
   ]
  },
  {
   "cell_type": "code",
   "execution_count": 143,
   "metadata": {},
   "outputs": [
    {
     "data": {
      "text/plain": [
       "[1, 2, 3]"
      ]
     },
     "execution_count": 143,
     "metadata": {},
     "output_type": "execute_result"
    }
   ],
   "source": [
    "import numpy as np\n",
    "\n",
    "\n",
    "list(np.array([1,2,3]))"
   ]
  },
  {
   "cell_type": "code",
   "execution_count": 136,
   "metadata": {},
   "outputs": [
    {
     "name": "stdout",
     "output_type": "stream",
     "text": [
      "Day la quyen sach Day la quen vo Quyen vo moi\n",
      "{'quen', 'moi', 'la', 'vo', 'Day', 'Quyen', 'sach', 'quyen'}\n"
     ]
    }
   ],
   "source": [
    "sentences = \"\"\n",
    "\n",
    "sentences = \" \".join(corpus)\n",
    "print(sentences)\n",
    "\n",
    "set_sent = set(sentences.split())\n",
    "print(set_sent)"
   ]
  },
  {
   "cell_type": "code",
   "execution_count": 142,
   "metadata": {},
   "outputs": [
    {
     "data": {
      "text/plain": [
       "{'quen': 0,\n",
       " 'moi': 1,\n",
       " 'la': 2,\n",
       " 'vo': 3,\n",
       " 'Day': 4,\n",
       " 'Quyen': 5,\n",
       " 'sach': 6,\n",
       " 'quyen': 7}"
      ]
     },
     "execution_count": 142,
     "metadata": {},
     "output_type": "execute_result"
    }
   ],
   "source": [
    "vocab = zip(list(set_sent), range(len(set_sent)))\n",
    "vocab = dict(vocab)\n",
    "vocab"
   ]
  },
  {
   "cell_type": "code",
   "execution_count": null,
   "metadata": {},
   "outputs": [],
   "source": [
    "indics = []\n",
    "    "
   ]
  },
  {
   "cell_type": "code",
   "execution_count": 145,
   "metadata": {},
   "outputs": [
    {
     "data": {
      "text/plain": [
       "'test1.txt'"
      ]
     },
     "execution_count": 145,
     "metadata": {},
     "output_type": "execute_result"
    }
   ],
   "source": [
    "import shutil\n",
    "\n",
    "shutil.copyfile('test.json', 'test1.txt')"
   ]
  }
 ],
 "metadata": {
  "kernelspec": {
   "display_name": "Python 3.8.0 ('product_discovery')",
   "language": "python",
   "name": "python3"
  },
  "language_info": {
   "codemirror_mode": {
    "name": "ipython",
    "version": 3
   },
   "file_extension": ".py",
   "mimetype": "text/x-python",
   "name": "python",
   "nbconvert_exporter": "python",
   "pygments_lexer": "ipython3",
   "version": "3.8.0"
  },
  "orig_nbformat": 4,
  "vscode": {
   "interpreter": {
    "hash": "1dc4bb78debfd8f994fa84653c1ce9541f4a7ad4c843db48ad99100197ddc2e8"
   }
  }
 },
 "nbformat": 4,
 "nbformat_minor": 2
}
